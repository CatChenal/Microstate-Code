{
 "cells": [
  {
   "cell_type": "markdown",
   "metadata": {
    "tags": []
   },
   "source": [
    "_Run Cell 1 without change_"
   ]
  },
  {
   "cell_type": "code",
   "execution_count": 1,
   "metadata": {
    "jupyter": {
     "source_hidden": true
    }
   },
   "outputs": [],
   "source": [
    "import matplotlib as mpl\n",
    "from matplotlib import pyplot as plt\n",
    "plt.ion()\n",
    "import numpy as np\n",
    "import pandas as pd\n",
    "from pathlib import Path\n",
    "from pprint import pprint as pp\n",
    "import seaborn as sns\n",
    "import sys\n",
    "import time\n",
    "\n",
    "plt.style.use('seaborn-v0_8-muted')\n",
    "#from IPython.display import HTML, Markdown #, IFrame\n",
    "\n",
    "# To get multiple outputs into 1 cell w/o using print:\n",
    "from IPython.core.interactiveshell import InteractiveShell\n",
    "InteractiveShell.ast_node_interactivity = \"all\"\n",
    "\n",
    "# autoreload extension\n",
    "from IPython import get_ipython\n",
    "ipython = get_ipython()\n",
    "if 'autoreload' not in ipython.extension_manager.loaded:\n",
    "    %load_ext autoreload\n",
    "%autoreload 2\n",
    "\n",
    "# -----------------------------------------\n",
    "# TWO USEFUL FUNCTIONS:\n",
    "\n",
    "def add_to_sys_path(this_path, up=False):\n",
    "    \"\"\"\n",
    "    Prepend this_path to sys.path.\n",
    "    If up=True, path refers to parent folder (1 level up).\n",
    "    \"\"\"\n",
    "    if up:\n",
    "        newp = Path(this_path).parent\n",
    "    else:\n",
    "        newp = Path(this_path)\n",
    "    src = newp.joinpath(\"src\")\n",
    "    if src.exists():\n",
    "        newp = str(src)\n",
    "    else:\n",
    "        newp = str(newp)\n",
    "    if newp not in sys.path:\n",
    "        sys.path.insert(1, newp)\n",
    "        print('Path added to sys.path: {}'.format(newp))\n",
    "\n",
    "\n",
    "# Filtered dir() for method discovery:\n",
    "def fdir(obj, start_with_str='_', exclude=True):\n",
    "    return [d for d in dir(obj) if not d.startswith(start_with_str) == exclude]\n"
   ]
  },
  {
   "cell_type": "code",
   "execution_count": 2,
   "metadata": {},
   "outputs": [
    {
     "name": "stdout",
     "output_type": "stream",
     "text": [
      "Path added to sys.path: /home/cat/projects/Microstate-Code\n"
     ]
    }
   ],
   "source": [
    "# Insert current src dir into sys.path so that modules in ../src can be imported:\n",
    "# CHANGE THIS IF NEEDED (up=True if this notebook is inside a folder):\n",
    "\n",
    "add_to_sys_path(Path.cwd(), up=True)"
   ]
  },
  {
   "cell_type": "markdown",
   "metadata": {},
   "source": [
    "# The modules used to:\n",
    " * read the microstate file\n",
    " * convert the microstates to charge microstates\n",
    "\n",
    "Note: the ms_analysis.py module is now the most up-to-date one; The Micorstate class is sortable."
   ]
  },
  {
   "cell_type": "code",
   "execution_count": 4,
   "metadata": {},
   "outputs": [],
   "source": [
    "from analyze import ms_analysis as msa"
   ]
  },
  {
   "cell_type": "markdown",
   "metadata": {},
   "source": [
    "---\n",
    "#### Optional inspection: if you want to know the methods/variables in an object:"
   ]
  },
  {
   "cell_type": "code",
   "execution_count": 5,
   "metadata": {},
   "outputs": [
    {
     "data": {
      "text/plain": [
       "['Charge_Microstate',\n",
       " 'Conformer',\n",
       " 'Kcal2kT',\n",
       " 'MSout',\n",
       " 'Microstate',\n",
       " 'Path',\n",
       " 'Union',\n",
       " 'bhata_distance',\n",
       " 'conformers',\n",
       " 'e2occ',\n",
       " 'groupms_byconfid',\n",
       " 'groupms_byenergy',\n",
       " 'groupms_byiconf',\n",
       " 'math',\n",
       " 'ms_charge',\n",
       " 'ms_convert2occ',\n",
       " 'ms_convert2sumcrg',\n",
       " 'ms_counts',\n",
       " 'ms_energy_stat',\n",
       " 'ms_to_charge_ms',\n",
       " 'np',\n",
       " 'operator',\n",
       " 'ph2Kcal',\n",
       " 'read_conformers',\n",
       " 'sort_charge_microstates',\n",
       " 'sys',\n",
       " 'topN_charge_microstates',\n",
       " 'whatchanged_conf',\n",
       " 'whatchanged_res',\n",
       " 'zlib']"
      ]
     },
     "execution_count": 5,
     "metadata": {},
     "output_type": "execute_result"
    }
   ],
   "source": [
    "fdir(msa)"
   ]
  },
  {
   "cell_type": "code",
   "execution_count": 10,
   "metadata": {},
   "outputs": [
    {
     "data": {
      "text/plain": [
       "['get_sampled_ms', 'load_msout', 'sort_microstates']"
      ]
     },
     "execution_count": 10,
     "metadata": {},
     "output_type": "execute_result"
    }
   ],
   "source": [
    "fdir(msa.MSout)"
   ]
  },
  {
   "cell_type": "markdown",
   "metadata": {},
   "source": [
    "## PRE-REQUISITES:\n",
    "You can access a MCCE output folder that contains a `ms_out` subfolder, which contains as many .txt files as titration points\n",
    "whose names follow this pattern: pH<X>eH<Y>ms.txt.  \n",
    "Thus, the file `pH7eH0ms.txt` records the microstates information at pH 7 and eH  0.\n",
    "\n",
    "### Note:\n",
    "You do not have to run this notebook inside an MCCE output folder (see how MCCE_DIR is defined below)."
   ]
  },
  {
   "cell_type": "markdown",
   "metadata": {},
   "source": [
    "### Checks on folders and files:"
   ]
  },
  {
   "cell_type": "code",
   "execution_count": 12,
   "metadata": {},
   "outputs": [],
   "source": [
    "# Valid mcce dir (for Cat):\n",
    "\n",
    "MCCE_DIR = Path.cwd().parent.parent.joinpath(\"granepura_GunnerLab\", \"mcce_data\")\n",
    "MCCE_MSOUT = MCCE_DIR.joinpath(\"ms_out\")\n",
    "if not MCCE_MSOUT.exists():\n",
    "    print(f\"{MCCE_MSOUT.name!r} not found in {MCCE_MSOUT.parent!r}, but required.\\n\",\n",
    "         \"The folder is retained when step4 is run with the '--ms' option.\")"
   ]
  },
  {
   "cell_type": "markdown",
   "metadata": {},
   "source": [
    "## Load conformers\n",
    "\n",
    "#### New behavior:\n",
    "Since you provide path to data folder instead of moving python modules to the data, \n",
    "the `msa.conformers` list will be empty when ms_analysis.py is imported outside an MCCE output folder.  \n",
    "**The following cell performs that check:**"
   ]
  },
  {
   "cell_type": "code",
   "execution_count": 13,
   "metadata": {},
   "outputs": [
    {
     "name": "stdout",
     "output_type": "stream",
     "text": [
      "N_conformers = 1,673\n"
     ]
    }
   ],
   "source": [
    "conformers = msa.conformers  # : will be [] when run outside an MCCE output folder\n",
    "if len(conformers) == 0:\n",
    "    conformers = msa.read_conformers(MCCE_DIR.joinpath(\"head3.lst\"))\n",
    "\n",
    "N_conformers = len(conformers)\n",
    "print(f\"{N_conformers = :,}\")"
   ]
  },
  {
   "cell_type": "markdown",
   "metadata": {},
   "source": [
    "### Define often used dictionnaries from conformers:"
   ]
  },
  {
   "cell_type": "code",
   "execution_count": 14,
   "metadata": {},
   "outputs": [],
   "source": [
    "conf_crg_from_id = dict((conf.iconf, conf.crg) for conf in conformers)"
   ]
  },
  {
   "cell_type": "code",
   "execution_count": 16,
   "metadata": {},
   "outputs": [],
   "source": [
    "msout_file = MCCE_MSOUT.joinpath(\"pH7eH0ms.txt\")\n",
    "if not msout_file.exists():\n",
    "    print(f\"{msout_file.name} not found!\")"
   ]
  },
  {
   "cell_type": "code",
   "execution_count": 17,
   "metadata": {},
   "outputs": [
    {
     "name": "stdout",
     "output_type": "stream",
     "text": [
      "Microstates:\n",
      "\tTotal count: mc.N_ms = 9,000,000\n",
      "\tUnique microstates: mc.N_uniq = 3,086,617\n"
     ]
    }
   ],
   "source": [
    "mc = msa.MSout(msout_file)\n",
    "\n",
    "print(f\"Microstates:\\n\\tTotal count: {mc.N_ms = :,}\\n\\tUnique microstates: {mc.N_uniq = :,}\")"
   ]
  },
  {
   "cell_type": "code",
   "execution_count": 18,
   "metadata": {},
   "outputs": [
    {
     "name": "stdout",
     "output_type": "stream",
     "text": [
      "N_free_res = 145\n"
     ]
    }
   ],
   "source": [
    "N_free_res = len(mc.free_residues)\n",
    "print(f\"{N_free_res = :,}\")"
   ]
  },
  {
   "cell_type": "code",
   "execution_count": 19,
   "metadata": {},
   "outputs": [
    {
     "data": {
      "text/plain": [
       "[[0, 1, 3, 4, 5, 6, 14, 16], [20, 21], [24, 25], [31, 32, 35, 36], [38, 39]]"
      ]
     },
     "execution_count": 19,
     "metadata": {},
     "output_type": "execute_result"
    }
   ],
   "source": [
    "# List of list: [conformer indices for each free residue]\n",
    "mc.free_residues[:5]"
   ]
  },
  {
   "cell_type": "markdown",
   "metadata": {},
   "source": [
    "### Example: converting conf indices to their 'parent' residue indices and resid:"
   ]
  },
  {
   "cell_type": "code",
   "execution_count": 26,
   "metadata": {},
   "outputs": [
    {
     "data": {
      "text/plain": [
       "(0, 'META0001_')"
      ]
     },
     "execution_count": 26,
     "metadata": {},
     "output_type": "execute_result"
    },
    {
     "data": {
      "text/plain": [
       "(1, 'TYRA0004_')"
      ]
     },
     "execution_count": 26,
     "metadata": {},
     "output_type": "execute_result"
    },
    {
     "data": {
      "text/plain": [
       "(2, 'ASNA0006_')"
      ]
     },
     "execution_count": 26,
     "metadata": {},
     "output_type": "execute_result"
    }
   ],
   "source": [
    "# Example: converting conf indices to their 'parent' residue indices and resid:\n",
    "\n",
    "# resindex, resid:\n",
    "mc.iconf2ires[16], conformers[16].resid\n",
    "mc.iconf2ires[21], conformers[21].resid\n",
    "mc.iconf2ires[25], conformers[25].resid"
   ]
  },
  {
   "cell_type": "markdown",
   "metadata": {},
   "source": [
    "## Change mc.microstates to a list"
   ]
  },
  {
   "cell_type": "code",
   "execution_count": 27,
   "metadata": {},
   "outputs": [
    {
     "data": {
      "text/plain": [
       "[<analyze.ms_analysis.Microstate at 0x7f3046ef7f50>,\n",
       " <analyze.ms_analysis.Microstate at 0x7f30377847d0>,\n",
       " <analyze.ms_analysis.Microstate at 0x7f3046ef7ed0>,\n",
       " <analyze.ms_analysis.Microstate at 0x7f3037784710>]"
      ]
     },
     "execution_count": 27,
     "metadata": {},
     "output_type": "execute_result"
    }
   ],
   "source": [
    "if isinstance(mc.microstates, dict):\n",
    "    microstates = list(mc.microstates.values())\n",
    "else:\n",
    "    microstates = mc.microstates\n",
    "\n",
    "microstates[:4]"
   ]
  },
  {
   "cell_type": "markdown",
   "metadata": {},
   "source": [
    "---\n",
    "## For 'MCCE to MD' project: Convert microstates to charge_microstates"
   ]
  },
  {
   "cell_type": "code",
   "execution_count": 29,
   "metadata": {},
   "outputs": [
    {
     "name": "stdout",
     "output_type": "stream",
     "text": [
      "N_charge_ms = 768\n"
     ]
    }
   ],
   "source": [
    "charge_ms = msa.ms_to_charge_ms(microstates, conformers)\n",
    "N_charge_ms = len(charge_ms)\n",
    "print(f\"{N_charge_ms = :,}\")"
   ]
  },
  {
   "cell_type": "markdown",
   "metadata": {},
   "source": [
    "### Get the top1 charge microstate by count (i.e. the most frequent)"
   ]
  },
  {
   "cell_type": "code",
   "execution_count": 30,
   "metadata": {},
   "outputs": [
    {
     "name": "stdout",
     "output_type": "stream",
     "text": [
      "Charge_Microstate(\n",
      "\tcount = 1,232,506,\n",
      "\tE = 4,692.84,\n",
      "\tstate = [0, 0, 0, -1, 0, 0, 0, 1, 0, 0, 0, 0, 0, 0, 0, 0, 0, 0, 0, 0, 0, 0, -1, 0, 0, -1, 0, 0, 0, 0, 0, 0, -1, 0, -1, 0, 0, 0, 0, 0, 1, 0, 0, 0, 1, 1, 0, 0, 0, 0, 1, 0, 0, 0, 0, 0, 0, 0, 0, 1, 0, 0, 0, 0, 0, 0, -1, 0, 0, 0, 0, 0, 0, 0, 0, 1, 0, 0, -1, 0, -1, 0, 0, 0, 0, 0, 0, 0, 0, 0, 0, 0, 1, 1, 0, 0, 0, 0, 0, 0, 0, 0, 0, 0, 0, 0, 0, -1, 0, 1, 0, 0, 0, 0, -1, 0, 0, 1, 0, 0, 0, 0, 0, 0, 0, 0, 1, 0, -1, 0, 1, 1, 0, 0, 0, 0, 0, -1, 0, 0, 0, 0, 0, 0, 0]\n",
      ")\n",
      "top1_by_count_state_size = 145; Check: same as N_free_res? True\n"
     ]
    }
   ],
   "source": [
    "top1_cms_by_count = msa.topN_charge_microstates(charge_ms, sort_by=\"count\")  # N=1, sort_reverse=True :: default\n",
    "print(top1_cms_by_count[0])\n",
    "\n",
    "top1_by_count_state_size = len(top1_cms_by_count[0].state())\n",
    "print(f\"{top1_by_count_state_size = :,}; Check: same as N_free_res? {N_free_res==top1_by_count_state_size}\")"
   ]
  },
  {
   "cell_type": "markdown",
   "metadata": {},
   "source": [
    "### Get the top1 charge microstate by energy (i.e. the most favorable)"
   ]
  },
  {
   "cell_type": "code",
   "execution_count": 32,
   "metadata": {},
   "outputs": [
    {
     "name": "stdout",
     "output_type": "stream",
     "text": [
      "Charge_Microstate(\n",
      "\tcount = 81,\n",
      "\tE = 4,688.93,\n",
      "\tstate = [0, 0, 0, 0, 0, 0, 0, 1, 0, 0, 0, 0, 0, 0, 0, 0, 0, 0, 0, -1, 0, 0, -1, 0, 0, -1, 0, 0, 0, 0, 0, 0, -1, 0, -1, 0, 0, 0, 0, 0, 1, 0, 0, 0, 1, 1, 0, 0, 0, 0, 1, 0, 0, 0, 0, 0, 0, 0, 0, 1, 0, 0, 0, 0, 0, 0, -1, 0, 0, 0, 0, 0, 0, 0, 0, 0, 0, 0, 0, 0, -1, 0, 0, 0, 0, 0, 0, 0, 0, 0, 0, 0, 1, 1, 0, 0, 0, 0, 0, 0, 0, 0, 0, 0, 0, 0, 0, -1, 0, 1, 0, 0, 0, 0, -1, 0, 0, 1, 0, 0, 0, 0, 0, 0, 0, 0, 1, 0, -1, 0, 1, 1, 0, 0, 0, 0, 0, -1, 0, 0, 0, 0, 0, 0, 0]\n",
      ")\n",
      "top1_by_E_state_size = 145; Check: same as N_free_res? True\n"
     ]
    }
   ],
   "source": [
    "top1_cms_by_energy = msa.topN_charge_microstates(charge_ms, sort_by=\"E\", sort_reverse=False)  # N=1 :: default\n",
    "print(top1_cms_by_energy[0])\n",
    "\n",
    "top1_by_E_state_size = len(top1_cms_by_energy[0].state())\n",
    "print(f\"{top1_by_E_state_size = :,}; Check: same as N_free_res? {N_free_res==top1_by_E_state_size}\")"
   ]
  },
  {
   "cell_type": "markdown",
   "metadata": {},
   "source": [
    "## In MCCE, residues are grouped into free and fixed residues.\n",
    " * Free residues appear in the microstate id list but fixed residues do not.\n",
    " * Fixed residues can have the titrating residues so it is important to look up the fixed residues and their contributing total charge is called here as background charge."
   ]
  },
  {
   "cell_type": "markdown",
   "metadata": {},
   "source": [
    "## Free residues information"
   ]
  },
  {
   "cell_type": "code",
   "execution_count": 47,
   "metadata": {},
   "outputs": [],
   "source": [
    "def free_residues_df(free_res:list, conformers:list) -> pd.DataFrame:\n",
    "    \"\"\"\n",
    "    Return the free residues' ids in a pandas DataFrame.\n",
    "    \"\"\"\n",
    "    free_residues = [conformers[res[0]].resid for res in free_res]\n",
    "\n",
    "    return pd.DataFrame(free_residues, columns=[\"FreeRes\"])\n"
   ]
  },
  {
   "cell_type": "code",
   "execution_count": 48,
   "metadata": {},
   "outputs": [
    {
     "data": {
      "text/html": [
       "<div>\n",
       "<style scoped>\n",
       "    .dataframe tbody tr th:only-of-type {\n",
       "        vertical-align: middle;\n",
       "    }\n",
       "\n",
       "    .dataframe tbody tr th {\n",
       "        vertical-align: top;\n",
       "    }\n",
       "\n",
       "    .dataframe thead th {\n",
       "        text-align: right;\n",
       "    }\n",
       "</style>\n",
       "<table border=\"1\" class=\"dataframe\">\n",
       "  <thead>\n",
       "    <tr style=\"text-align: right;\">\n",
       "      <th></th>\n",
       "      <th>FreeRes</th>\n",
       "    </tr>\n",
       "  </thead>\n",
       "  <tbody>\n",
       "    <tr>\n",
       "      <th>0</th>\n",
       "      <td>META0001_</td>\n",
       "    </tr>\n",
       "    <tr>\n",
       "      <th>1</th>\n",
       "      <td>TYRA0004_</td>\n",
       "    </tr>\n",
       "    <tr>\n",
       "      <th>2</th>\n",
       "      <td>ASNA0006_</td>\n",
       "    </tr>\n",
       "    <tr>\n",
       "      <th>3</th>\n",
       "      <td>GLUA0008_</td>\n",
       "    </tr>\n",
       "    <tr>\n",
       "      <th>4</th>\n",
       "      <td>THRA0010_</td>\n",
       "    </tr>\n",
       "    <tr>\n",
       "      <th>...</th>\n",
       "      <td>...</td>\n",
       "    </tr>\n",
       "    <tr>\n",
       "      <th>140</th>\n",
       "      <td>HOHZ0010_</td>\n",
       "    </tr>\n",
       "    <tr>\n",
       "      <th>141</th>\n",
       "      <td>HOHZ0068_</td>\n",
       "    </tr>\n",
       "    <tr>\n",
       "      <th>142</th>\n",
       "      <td>HOHZ0069_</td>\n",
       "    </tr>\n",
       "    <tr>\n",
       "      <th>143</th>\n",
       "      <td>HOHZ0070_</td>\n",
       "    </tr>\n",
       "    <tr>\n",
       "      <th>144</th>\n",
       "      <td>HOHZ0071_</td>\n",
       "    </tr>\n",
       "  </tbody>\n",
       "</table>\n",
       "<p>145 rows × 1 columns</p>\n",
       "</div>"
      ],
      "text/plain": [
       "       FreeRes\n",
       "0    META0001_\n",
       "1    TYRA0004_\n",
       "2    ASNA0006_\n",
       "3    GLUA0008_\n",
       "4    THRA0010_\n",
       "..         ...\n",
       "140  HOHZ0010_\n",
       "141  HOHZ0068_\n",
       "142  HOHZ0069_\n",
       "143  HOHZ0070_\n",
       "144  HOHZ0071_\n",
       "\n",
       "[145 rows x 1 columns]"
      ]
     },
     "execution_count": 48,
     "metadata": {},
     "output_type": "execute_result"
    }
   ],
   "source": [
    "free_res_df = free_residues_df(mc.free_residues, conformers)\n",
    "free_res_df"
   ]
  },
  {
   "cell_type": "markdown",
   "metadata": {},
   "source": [
    "## Fixed residues charge\n",
    "Make sure to get the fixed residues charge for MD protonation input."
   ]
  },
  {
   "cell_type": "code",
   "execution_count": 35,
   "metadata": {},
   "outputs": [],
   "source": [
    "def fixed_residues_charge(conformers:list, fixed_iconfs:list) -> tuple:\n",
    "    \"\"\"Return the net charge contributed by the fixed residues\n",
    "    and the fixed_res_crg_dict.\n",
    "    \"\"\"\n",
    "\n",
    "    fixed_res_crg_dict = {}\n",
    "    for conf in conformers:\n",
    "        if conf.iconf in fixed_iconfs:\n",
    "            if conf.resid not in fixed_res_crg_dict.keys():\n",
    "                fixed_res_crg_dict[conf.resid] = conf.crg\n",
    "            else:\n",
    "                print(f\"ERROR: duplicated fixed residue: {conf.resid!r}\")\n",
    "\n",
    "    net_charge = sum(fixed_res_crg_dict.values())\n",
    "\n",
    "    return net_charge, fixed_res_crg_dict"
   ]
  },
  {
   "cell_type": "code",
   "execution_count": 36,
   "metadata": {},
   "outputs": [
    {
     "name": "stdout",
     "output_type": "stream",
     "text": [
      "background_charge = -6.00\n"
     ]
    }
   ],
   "source": [
    "background_charge, fixed_res_crg_dict = fixed_residues_charge(conformers, mc.fixed_iconfs)\n",
    "print(f\"{background_charge = :.2f}\")"
   ]
  },
  {
   "cell_type": "markdown",
   "metadata": {},
   "source": [
    "## This will keep only fixed residues of interest and their charge information. \n",
    "\n",
    "\n",
    "### Note: Make sure to add your all interested residues name here (such as quinone)"
   ]
  },
  {
   "cell_type": "code",
   "execution_count": 33,
   "metadata": {},
   "outputs": [
    {
     "data": {
      "text/plain": [
       "12"
      ]
     },
     "execution_count": 33,
     "metadata": {},
     "output_type": "execute_result"
    }
   ],
   "source": [
    "res_of_interest = [\"ASP\", \"MQ8\", \"GLU\", \"ARG\", \"HIS\", \"LYS\", \"SER\", \"CYS\", \"THR\", \"TYR\", \"NTR\", \"CTR\"]\n",
    "len(res_of_interest)"
   ]
  },
  {
   "cell_type": "markdown",
   "metadata": {},
   "source": [
    "### Keep only your interested residue information in fixed residues"
   ]
  },
  {
   "cell_type": "code",
   "execution_count": 37,
   "metadata": {},
   "outputs": [
    {
     "data": {
      "text/plain": [
       "24"
      ]
     },
     "execution_count": 37,
     "metadata": {},
     "output_type": "execute_result"
    },
    {
     "data": {
      "text/html": [
       "<div>\n",
       "<style scoped>\n",
       "    .dataframe tbody tr th:only-of-type {\n",
       "        vertical-align: middle;\n",
       "    }\n",
       "\n",
       "    .dataframe tbody tr th {\n",
       "        vertical-align: top;\n",
       "    }\n",
       "\n",
       "    .dataframe thead th {\n",
       "        text-align: right;\n",
       "    }\n",
       "</style>\n",
       "<table border=\"1\" class=\"dataframe\">\n",
       "  <thead>\n",
       "    <tr style=\"text-align: right;\">\n",
       "      <th></th>\n",
       "      <th>FixedRes</th>\n",
       "      <th>crg</th>\n",
       "    </tr>\n",
       "  </thead>\n",
       "  <tbody>\n",
       "    <tr>\n",
       "      <th>0</th>\n",
       "      <td>THRA0003_</td>\n",
       "      <td>-0.0</td>\n",
       "    </tr>\n",
       "    <tr>\n",
       "      <th>1</th>\n",
       "      <td>ASPA0012_</td>\n",
       "      <td>-1.0</td>\n",
       "    </tr>\n",
       "    <tr>\n",
       "      <th>2</th>\n",
       "      <td>THRA0054_</td>\n",
       "      <td>-0.0</td>\n",
       "    </tr>\n",
       "    <tr>\n",
       "      <th>3</th>\n",
       "      <td>THRA0084_</td>\n",
       "      <td>-0.0</td>\n",
       "    </tr>\n",
       "    <tr>\n",
       "      <th>4</th>\n",
       "      <td>THRA0086_</td>\n",
       "      <td>-0.0</td>\n",
       "    </tr>\n",
       "    <tr>\n",
       "      <th>5</th>\n",
       "      <td>TYRA0087_</td>\n",
       "      <td>0.0</td>\n",
       "    </tr>\n",
       "    <tr>\n",
       "      <th>6</th>\n",
       "      <td>THRA0111_</td>\n",
       "      <td>-0.0</td>\n",
       "    </tr>\n",
       "    <tr>\n",
       "      <th>7</th>\n",
       "      <td>ASPA0117_</td>\n",
       "      <td>-1.0</td>\n",
       "    </tr>\n",
       "    <tr>\n",
       "      <th>8</th>\n",
       "      <td>ASPA0131_</td>\n",
       "      <td>-1.0</td>\n",
       "    </tr>\n",
       "    <tr>\n",
       "      <th>9</th>\n",
       "      <td>ASPA0134_</td>\n",
       "      <td>-1.0</td>\n",
       "    </tr>\n",
       "    <tr>\n",
       "      <th>10</th>\n",
       "      <td>THRA0161_</td>\n",
       "      <td>-0.0</td>\n",
       "    </tr>\n",
       "    <tr>\n",
       "      <th>11</th>\n",
       "      <td>ASPA0168_</td>\n",
       "      <td>-1.0</td>\n",
       "    </tr>\n",
       "    <tr>\n",
       "      <th>12</th>\n",
       "      <td>THRA0173_</td>\n",
       "      <td>-0.0</td>\n",
       "    </tr>\n",
       "    <tr>\n",
       "      <th>13</th>\n",
       "      <td>ARGA0175_</td>\n",
       "      <td>1.0</td>\n",
       "    </tr>\n",
       "    <tr>\n",
       "      <th>14</th>\n",
       "      <td>GLUA0201_</td>\n",
       "      <td>-1.0</td>\n",
       "    </tr>\n",
       "    <tr>\n",
       "      <th>15</th>\n",
       "      <td>HISA0207_</td>\n",
       "      <td>-0.0</td>\n",
       "    </tr>\n",
       "    <tr>\n",
       "      <th>16</th>\n",
       "      <td>GLUA0239_</td>\n",
       "      <td>-1.0</td>\n",
       "    </tr>\n",
       "    <tr>\n",
       "      <th>17</th>\n",
       "      <td>TYRA0244_</td>\n",
       "      <td>0.0</td>\n",
       "    </tr>\n",
       "    <tr>\n",
       "      <th>18</th>\n",
       "      <td>GLUA0277_</td>\n",
       "      <td>-1.0</td>\n",
       "    </tr>\n",
       "    <tr>\n",
       "      <th>19</th>\n",
       "      <td>ARGA0300_</td>\n",
       "      <td>1.0</td>\n",
       "    </tr>\n",
       "    <tr>\n",
       "      <th>20</th>\n",
       "      <td>HISA0321_</td>\n",
       "      <td>-0.0</td>\n",
       "    </tr>\n",
       "    <tr>\n",
       "      <th>21</th>\n",
       "      <td>ARGA0331_</td>\n",
       "      <td>1.0</td>\n",
       "    </tr>\n",
       "    <tr>\n",
       "      <th>22</th>\n",
       "      <td>GLUA0334_</td>\n",
       "      <td>-1.0</td>\n",
       "    </tr>\n",
       "    <tr>\n",
       "      <th>23</th>\n",
       "      <td>SERA0338_</td>\n",
       "      <td>0.0</td>\n",
       "    </tr>\n",
       "  </tbody>\n",
       "</table>\n",
       "</div>"
      ],
      "text/plain": [
       "     FixedRes  crg\n",
       "0   THRA0003_ -0.0\n",
       "1   ASPA0012_ -1.0\n",
       "2   THRA0054_ -0.0\n",
       "3   THRA0084_ -0.0\n",
       "4   THRA0086_ -0.0\n",
       "5   TYRA0087_  0.0\n",
       "6   THRA0111_ -0.0\n",
       "7   ASPA0117_ -1.0\n",
       "8   ASPA0131_ -1.0\n",
       "9   ASPA0134_ -1.0\n",
       "10  THRA0161_ -0.0\n",
       "11  ASPA0168_ -1.0\n",
       "12  THRA0173_ -0.0\n",
       "13  ARGA0175_  1.0\n",
       "14  GLUA0201_ -1.0\n",
       "15  HISA0207_ -0.0\n",
       "16  GLUA0239_ -1.0\n",
       "17  TYRA0244_  0.0\n",
       "18  GLUA0277_ -1.0\n",
       "19  ARGA0300_  1.0\n",
       "20  HISA0321_ -0.0\n",
       "21  ARGA0331_  1.0\n",
       "22  GLUA0334_ -1.0\n",
       "23  SERA0338_  0.0"
      ]
     },
     "execution_count": 37,
     "metadata": {},
     "output_type": "execute_result"
    }
   ],
   "source": [
    "fixed_res_of_interest = {i:j for i,j in fixed_res_crg_dict.items() if i[:3] in res_of_interest}\n",
    "df_fixed_res_crg = pd.DataFrame(fixed_res_of_interest.items(), columns=['FixedRes', 'crg'])\n",
    "df_fixed_res_crg.shape[0]\n",
    "df_fixed_res_crg"
   ]
  }
 ],
 "metadata": {
  "kernelspec": {
   "display_name": "Python [conda env:mce]",
   "language": "python",
   "name": "conda-env-mce-py"
  },
  "language_info": {
   "codemirror_mode": {
    "name": "ipython",
    "version": 3
   },
   "file_extension": ".py",
   "mimetype": "text/x-python",
   "name": "python",
   "nbconvert_exporter": "python",
   "pygments_lexer": "ipython3",
   "version": "3.11.5"
  }
 },
 "nbformat": 4,
 "nbformat_minor": 4
}
